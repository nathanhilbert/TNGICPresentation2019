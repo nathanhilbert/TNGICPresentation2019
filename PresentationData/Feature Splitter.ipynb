{
 "cells": [
  {
   "cell_type": "code",
   "execution_count": 15,
   "metadata": {},
   "outputs": [
    {
     "name": "stdout",
     "output_type": "stream",
     "text": [
      "publicland_aggregatedprof_osm.shp : sum: 4395.854962761126 sq km mean: 7.963505367320868\n",
      "publicland_aggregatedprof_auth.shp : sum: 9688.560516583364 sq km mean: 4.165331262503595\n",
      "publicland_rejectedprof_osm.shp : sum: 443.5044381851666 sq km mean: 2.563609469278419\n",
      "publicland_rejectedprof_auth.shp : sum: 2442.406839441378 sq km mean: 6.918999545159712\n"
     ]
    }
   ],
   "source": [
    "from fiona.transform import transform_geom\n",
    "from fiona.crs import from_epsg\n",
    "from statistics import mean \n",
    "import fiona\n",
    "from pyproj import Proj\n",
    "from shapely.geometry import shape\n",
    "# split files based on OSM or not\n",
    "# make sure all geometries are valid or reject them\n",
    "# get total length/area of files\n",
    "publicland = ['publicland_aggregated.shp', 'publicland_rejected.shp']\n",
    "trails = ['trails_rejected.shp', 'trails_aggregated.shp']\n",
    "\n",
    "for f in publicland:\n",
    "    with fiona.open(f, 'r') as fin:\n",
    "        origschema = fin.schema\n",
    "        newfeats_auth = []\n",
    "        newfeats_osm = []\n",
    "        osm_area = []\n",
    "        auth_area = []\n",
    "        for feat in fin:\n",
    "            feat['geometry'] = transform_geom(str(Proj(init='EPSG:4326').crs), str(Proj(init='EPSG:3857').crs), feat['geometry'])\n",
    "            if feat['properties']['OManaging'] == 'OSM':\n",
    "                newfeats_osm.append(feat)\n",
    "                osm_area.append(shape(feat['geometry']).area)\n",
    "            else:\n",
    "                newfeats_auth.append(feat)\n",
    "                auth_area.append(shape(feat['geometry']).area)\n",
    "\n",
    "    with fiona.open(f.replace('.shp', 'prof_osm.shp'), 'w', driver='ESRI Shapefile', schema=origschema, crs=from_epsg(3857)) as fout:\n",
    "        for feat in newfeats_osm:\n",
    "            fout.write(feat)\n",
    "        print(f.replace('.shp', 'prof_osm.shp'), \":\", \"sum:\", sum(osm_area)/1000000, \"sq km\", \"mean:\", mean(osm_area)/1000000 )\n",
    "    with fiona.open(f.replace('.shp', 'prof_auth.shp'), 'w', driver='ESRI Shapefile', schema=origschema, crs=from_epsg(3857)) as fout:\n",
    "        for feat in newfeats_auth:\n",
    "            fout.write(feat)\n",
    "        print(f.replace('.shp', 'prof_auth.shp'), \":\", \"sum:\", sum(auth_area)/1000000, \"sq km\", \"mean:\", mean(auth_area)/1000000 )"
   ]
  },
  {
   "cell_type": "code",
   "execution_count": 16,
   "metadata": {},
   "outputs": [
    {
     "name": "stdout",
     "output_type": "stream",
     "text": [
      "trails_rejectedprof_osm.shp : sum: 1030.893281426378 km mean: 1.3016329310939116\n",
      "trails_rejectedprof_auth.shp : sum: 616.5318693057761 km mean: 4.8931100738553654\n",
      "trails_aggregatedprof_osm.shp : sum: 2776.017748979176 km mean: 0.4753455049621852\n",
      "trails_aggregatedprof_auth.shp : sum: 3119.5491517778837 km mean: 2.3777051461721683\n"
     ]
    }
   ],
   "source": [
    "for f in trails:\n",
    "    with fiona.open(f, 'r') as fin:\n",
    "        origschema = fin.schema\n",
    "        newfeats_auth = []\n",
    "        newfeats_osm = []\n",
    "        osm_area = []\n",
    "        auth_area = []\n",
    "        for feat in fin:\n",
    "            feat['geometry'] = transform_geom(str(Proj(init='EPSG:4326').crs), str(Proj(init='EPSG:3857').crs), feat['geometry'])\n",
    "            if feat['properties']['OManaging'] == 'OSM':\n",
    "                newfeats_osm.append(feat)\n",
    "                osm_area.append(shape(feat['geometry']).length)\n",
    "            else:\n",
    "                newfeats_auth.append(feat)\n",
    "                auth_area.append(shape(feat['geometry']).length)\n",
    "\n",
    "    with fiona.open(f.replace('.shp', 'prof_osm.shp'), 'w', driver='ESRI Shapefile', schema=origschema, crs=from_epsg(3857)) as fout:\n",
    "        for feat in newfeats_osm:\n",
    "            fout.write(feat)\n",
    "        print(f.replace('.shp', 'prof_osm.shp'), \":\", \"sum:\", sum(osm_area)/1000, \"km\", \"mean:\", mean(osm_area)/1000 )\n",
    "    with fiona.open(f.replace('.shp', 'prof_auth.shp'), 'w', driver='ESRI Shapefile', schema=origschema, crs=from_epsg(3857)) as fout:\n",
    "        for feat in newfeats_auth:\n",
    "            fout.write(feat)\n",
    "        print(f.replace('.shp', 'prof_auth.shp'), \":\", \"sum:\", sum(auth_area)/1000, \"km\", \"mean:\", mean(auth_area)/1000 )"
   ]
  },
  {
   "cell_type": "code",
   "execution_count": null,
   "metadata": {},
   "outputs": [],
   "source": []
  }
 ],
 "metadata": {
  "kernelspec": {
   "display_name": "Python 3",
   "language": "python",
   "name": "python3"
  },
  "language_info": {
   "codemirror_mode": {
    "name": "ipython",
    "version": 3
   },
   "file_extension": ".py",
   "mimetype": "text/x-python",
   "name": "python",
   "nbconvert_exporter": "python",
   "pygments_lexer": "ipython3",
   "version": "3.5.1"
  }
 },
 "nbformat": 4,
 "nbformat_minor": 2
}
